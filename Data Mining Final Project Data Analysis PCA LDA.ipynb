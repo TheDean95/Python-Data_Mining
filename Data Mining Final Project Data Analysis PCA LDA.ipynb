{
 "cells": [
  {
   "cell_type": "code",
   "execution_count": null,
   "id": "373333bf",
   "metadata": {},
   "outputs": [],
   "source": [
    "## PCA Analysis "
   ]
  },
  {
   "cell_type": "code",
   "execution_count": null,
   "id": "170ae6fb",
   "metadata": {},
   "outputs": [],
   "source": [
    "## Loading packages, changing directory"
   ]
  },
  {
   "cell_type": "code",
   "execution_count": 8,
   "id": "1f36bd7b",
   "metadata": {},
   "outputs": [],
   "source": [
    "import os\n",
    "import pandas as pd\n",
    "from sklearn.datasets import load_wine\n",
    "import numpy as np\n",
    "from matplotlib import pyplot as plt\n",
    "import seaborn as sns\n",
    "from sklearn.preprocessing import LabelEncoder\n",
    "from sklearn.tree import DecisionTreeClassifier\n",
    "from sklearn.model_selection import train_test_split\n",
    "from sklearn.metrics import confusion_matrix"
   ]
  },
  {
   "cell_type": "code",
   "execution_count": 3,
   "id": "179a27d2",
   "metadata": {},
   "outputs": [],
   "source": [
    "os.chdir(r\"C:\\Users\\jeffm\\Documents\\old_pc_data\\good_data\\Users\\jeffd\\Documents\\Studying\\Data Mining\\Final Project\")"
   ]
  },
  {
   "cell_type": "code",
   "execution_count": 4,
   "id": "6749c70c",
   "metadata": {},
   "outputs": [
    {
     "data": {
      "text/plain": [
       "'C:\\\\Users\\\\jeffm\\\\Documents\\\\old_pc_data\\\\good_data\\\\Users\\\\jeffd\\\\Documents\\\\Studying\\\\Data Mining\\\\Final Project'"
      ]
     },
     "execution_count": 4,
     "metadata": {},
     "output_type": "execute_result"
    }
   ],
   "source": [
    "os.getcwd()"
   ]
  },
  {
   "cell_type": "code",
   "execution_count": null,
   "id": "6fa2e2cf",
   "metadata": {},
   "outputs": [],
   "source": [
    "## Loading Data into Dataframe"
   ]
  },
  {
   "cell_type": "code",
   "execution_count": 6,
   "id": "0831eb99",
   "metadata": {},
   "outputs": [],
   "source": [
    "tornado_df = pd.read_excel('clean_tornado.xlsx', index_col=0) "
   ]
  },
  {
   "cell_type": "code",
   "execution_count": 7,
   "id": "e5388b8d",
   "metadata": {},
   "outputs": [
    {
     "data": {
      "text/html": [
       "<div>\n",
       "<style scoped>\n",
       "    .dataframe tbody tr th:only-of-type {\n",
       "        vertical-align: middle;\n",
       "    }\n",
       "\n",
       "    .dataframe tbody tr th {\n",
       "        vertical-align: top;\n",
       "    }\n",
       "\n",
       "    .dataframe thead th {\n",
       "        text-align: right;\n",
       "    }\n",
       "</style>\n",
       "<table border=\"1\" class=\"dataframe\">\n",
       "  <thead>\n",
       "    <tr style=\"text-align: right;\">\n",
       "      <th></th>\n",
       "      <th>om</th>\n",
       "      <th>yr</th>\n",
       "      <th>mo</th>\n",
       "      <th>dy</th>\n",
       "      <th>date</th>\n",
       "      <th>time</th>\n",
       "      <th>tz</th>\n",
       "      <th>st</th>\n",
       "      <th>stf</th>\n",
       "      <th>stn</th>\n",
       "      <th>...</th>\n",
       "      <th>casualty_event?</th>\n",
       "      <th>loss</th>\n",
       "      <th>closs</th>\n",
       "      <th>slat</th>\n",
       "      <th>slon</th>\n",
       "      <th>elat</th>\n",
       "      <th>elon</th>\n",
       "      <th>len</th>\n",
       "      <th>wid</th>\n",
       "      <th>fc</th>\n",
       "    </tr>\n",
       "  </thead>\n",
       "  <tbody>\n",
       "    <tr>\n",
       "      <th>0</th>\n",
       "      <td>1</td>\n",
       "      <td>1950</td>\n",
       "      <td>1</td>\n",
       "      <td>3</td>\n",
       "      <td>1950-01-03</td>\n",
       "      <td>39600</td>\n",
       "      <td>3</td>\n",
       "      <td>MO</td>\n",
       "      <td>29</td>\n",
       "      <td>1</td>\n",
       "      <td>...</td>\n",
       "      <td>casualty_event</td>\n",
       "      <td>6</td>\n",
       "      <td>0.0</td>\n",
       "      <td>38.77</td>\n",
       "      <td>-90.22</td>\n",
       "      <td>38.83</td>\n",
       "      <td>-90.03</td>\n",
       "      <td>9.50</td>\n",
       "      <td>150</td>\n",
       "      <td>0</td>\n",
       "    </tr>\n",
       "    <tr>\n",
       "      <th>1</th>\n",
       "      <td>2</td>\n",
       "      <td>1950</td>\n",
       "      <td>1</td>\n",
       "      <td>3</td>\n",
       "      <td>1950-01-03</td>\n",
       "      <td>42900</td>\n",
       "      <td>3</td>\n",
       "      <td>IL</td>\n",
       "      <td>17</td>\n",
       "      <td>2</td>\n",
       "      <td>...</td>\n",
       "      <td>casualty_event</td>\n",
       "      <td>5</td>\n",
       "      <td>0.0</td>\n",
       "      <td>39.10</td>\n",
       "      <td>-89.30</td>\n",
       "      <td>39.12</td>\n",
       "      <td>-89.23</td>\n",
       "      <td>3.60</td>\n",
       "      <td>130</td>\n",
       "      <td>0</td>\n",
       "    </tr>\n",
       "    <tr>\n",
       "      <th>2</th>\n",
       "      <td>3</td>\n",
       "      <td>1950</td>\n",
       "      <td>1</td>\n",
       "      <td>3</td>\n",
       "      <td>1950-01-03</td>\n",
       "      <td>57600</td>\n",
       "      <td>3</td>\n",
       "      <td>OH</td>\n",
       "      <td>39</td>\n",
       "      <td>1</td>\n",
       "      <td>...</td>\n",
       "      <td>casualty_event</td>\n",
       "      <td>4</td>\n",
       "      <td>0.0</td>\n",
       "      <td>40.88</td>\n",
       "      <td>-84.58</td>\n",
       "      <td>0.00</td>\n",
       "      <td>0.00</td>\n",
       "      <td>0.10</td>\n",
       "      <td>10</td>\n",
       "      <td>0</td>\n",
       "    </tr>\n",
       "    <tr>\n",
       "      <th>3</th>\n",
       "      <td>4</td>\n",
       "      <td>1950</td>\n",
       "      <td>1</td>\n",
       "      <td>13</td>\n",
       "      <td>1950-01-13</td>\n",
       "      <td>19500</td>\n",
       "      <td>3</td>\n",
       "      <td>AR</td>\n",
       "      <td>5</td>\n",
       "      <td>1</td>\n",
       "      <td>...</td>\n",
       "      <td>casualty_event</td>\n",
       "      <td>3</td>\n",
       "      <td>0.0</td>\n",
       "      <td>34.40</td>\n",
       "      <td>-94.37</td>\n",
       "      <td>0.00</td>\n",
       "      <td>0.00</td>\n",
       "      <td>0.60</td>\n",
       "      <td>17</td>\n",
       "      <td>0</td>\n",
       "    </tr>\n",
       "    <tr>\n",
       "      <th>4</th>\n",
       "      <td>5</td>\n",
       "      <td>1950</td>\n",
       "      <td>1</td>\n",
       "      <td>25</td>\n",
       "      <td>1950-01-25</td>\n",
       "      <td>70200</td>\n",
       "      <td>3</td>\n",
       "      <td>MO</td>\n",
       "      <td>29</td>\n",
       "      <td>2</td>\n",
       "      <td>...</td>\n",
       "      <td>casualty_event</td>\n",
       "      <td>5</td>\n",
       "      <td>0.0</td>\n",
       "      <td>37.60</td>\n",
       "      <td>-90.68</td>\n",
       "      <td>37.63</td>\n",
       "      <td>-90.65</td>\n",
       "      <td>2.30</td>\n",
       "      <td>300</td>\n",
       "      <td>0</td>\n",
       "    </tr>\n",
       "    <tr>\n",
       "      <th>...</th>\n",
       "      <td>...</td>\n",
       "      <td>...</td>\n",
       "      <td>...</td>\n",
       "      <td>...</td>\n",
       "      <td>...</td>\n",
       "      <td>...</td>\n",
       "      <td>...</td>\n",
       "      <td>...</td>\n",
       "      <td>...</td>\n",
       "      <td>...</td>\n",
       "      <td>...</td>\n",
       "      <td>...</td>\n",
       "      <td>...</td>\n",
       "      <td>...</td>\n",
       "      <td>...</td>\n",
       "      <td>...</td>\n",
       "      <td>...</td>\n",
       "      <td>...</td>\n",
       "      <td>...</td>\n",
       "      <td>...</td>\n",
       "      <td>...</td>\n",
       "    </tr>\n",
       "    <tr>\n",
       "      <th>60109</th>\n",
       "      <td>607506</td>\n",
       "      <td>2015</td>\n",
       "      <td>12</td>\n",
       "      <td>28</td>\n",
       "      <td>2015-12-28</td>\n",
       "      <td>12000</td>\n",
       "      <td>3</td>\n",
       "      <td>LA</td>\n",
       "      <td>22</td>\n",
       "      <td>0</td>\n",
       "      <td>...</td>\n",
       "      <td>no_casualty</td>\n",
       "      <td>0</td>\n",
       "      <td>0.0</td>\n",
       "      <td>30.08</td>\n",
       "      <td>-90.54</td>\n",
       "      <td>30.08</td>\n",
       "      <td>-90.53</td>\n",
       "      <td>0.60</td>\n",
       "      <td>150</td>\n",
       "      <td>0</td>\n",
       "    </tr>\n",
       "    <tr>\n",
       "      <th>60110</th>\n",
       "      <td>613277</td>\n",
       "      <td>2015</td>\n",
       "      <td>12</td>\n",
       "      <td>28</td>\n",
       "      <td>2015-12-28</td>\n",
       "      <td>17160</td>\n",
       "      <td>3</td>\n",
       "      <td>AR</td>\n",
       "      <td>5</td>\n",
       "      <td>0</td>\n",
       "      <td>...</td>\n",
       "      <td>no_casualty</td>\n",
       "      <td>4</td>\n",
       "      <td>0.0</td>\n",
       "      <td>34.70</td>\n",
       "      <td>-90.92</td>\n",
       "      <td>34.78</td>\n",
       "      <td>-90.90</td>\n",
       "      <td>5.75</td>\n",
       "      <td>40</td>\n",
       "      <td>0</td>\n",
       "    </tr>\n",
       "    <tr>\n",
       "      <th>60111</th>\n",
       "      <td>607307</td>\n",
       "      <td>2015</td>\n",
       "      <td>12</td>\n",
       "      <td>28</td>\n",
       "      <td>2015-12-28</td>\n",
       "      <td>20580</td>\n",
       "      <td>3</td>\n",
       "      <td>MS</td>\n",
       "      <td>28</td>\n",
       "      <td>0</td>\n",
       "      <td>...</td>\n",
       "      <td>no_casualty</td>\n",
       "      <td>5</td>\n",
       "      <td>0.0</td>\n",
       "      <td>31.54</td>\n",
       "      <td>-89.53</td>\n",
       "      <td>31.61</td>\n",
       "      <td>-89.49</td>\n",
       "      <td>5.59</td>\n",
       "      <td>100</td>\n",
       "      <td>0</td>\n",
       "    </tr>\n",
       "    <tr>\n",
       "      <th>60112</th>\n",
       "      <td>612738</td>\n",
       "      <td>2015</td>\n",
       "      <td>12</td>\n",
       "      <td>28</td>\n",
       "      <td>2015-12-28</td>\n",
       "      <td>30600</td>\n",
       "      <td>3</td>\n",
       "      <td>FL</td>\n",
       "      <td>12</td>\n",
       "      <td>0</td>\n",
       "      <td>...</td>\n",
       "      <td>no_casualty</td>\n",
       "      <td>4</td>\n",
       "      <td>0.0</td>\n",
       "      <td>30.76</td>\n",
       "      <td>-87.24</td>\n",
       "      <td>30.77</td>\n",
       "      <td>-87.23</td>\n",
       "      <td>0.78</td>\n",
       "      <td>75</td>\n",
       "      <td>0</td>\n",
       "    </tr>\n",
       "    <tr>\n",
       "      <th>60113</th>\n",
       "      <td>612739</td>\n",
       "      <td>2015</td>\n",
       "      <td>12</td>\n",
       "      <td>28</td>\n",
       "      <td>2015-12-28</td>\n",
       "      <td>57480</td>\n",
       "      <td>3</td>\n",
       "      <td>NC</td>\n",
       "      <td>37</td>\n",
       "      <td>0</td>\n",
       "      <td>...</td>\n",
       "      <td>no_casualty</td>\n",
       "      <td>4</td>\n",
       "      <td>0.0</td>\n",
       "      <td>34.88</td>\n",
       "      <td>-80.53</td>\n",
       "      <td>34.89</td>\n",
       "      <td>-80.52</td>\n",
       "      <td>0.90</td>\n",
       "      <td>75</td>\n",
       "      <td>0</td>\n",
       "    </tr>\n",
       "  </tbody>\n",
       "</table>\n",
       "<p>60114 rows × 24 columns</p>\n",
       "</div>"
      ],
      "text/plain": [
       "           om    yr  mo  dy       date   time  tz  st  stf  stn  ...  \\\n",
       "0           1  1950   1   3 1950-01-03  39600   3  MO   29    1  ...   \n",
       "1           2  1950   1   3 1950-01-03  42900   3  IL   17    2  ...   \n",
       "2           3  1950   1   3 1950-01-03  57600   3  OH   39    1  ...   \n",
       "3           4  1950   1  13 1950-01-13  19500   3  AR    5    1  ...   \n",
       "4           5  1950   1  25 1950-01-25  70200   3  MO   29    2  ...   \n",
       "...       ...   ...  ..  ..        ...    ...  ..  ..  ...  ...  ...   \n",
       "60109  607506  2015  12  28 2015-12-28  12000   3  LA   22    0  ...   \n",
       "60110  613277  2015  12  28 2015-12-28  17160   3  AR    5    0  ...   \n",
       "60111  607307  2015  12  28 2015-12-28  20580   3  MS   28    0  ...   \n",
       "60112  612738  2015  12  28 2015-12-28  30600   3  FL   12    0  ...   \n",
       "60113  612739  2015  12  28 2015-12-28  57480   3  NC   37    0  ...   \n",
       "\n",
       "       casualty_event?  loss  closs   slat   slon   elat   elon   len  wid  fc  \n",
       "0       casualty_event     6    0.0  38.77 -90.22  38.83 -90.03  9.50  150   0  \n",
       "1       casualty_event     5    0.0  39.10 -89.30  39.12 -89.23  3.60  130   0  \n",
       "2       casualty_event     4    0.0  40.88 -84.58   0.00   0.00  0.10   10   0  \n",
       "3       casualty_event     3    0.0  34.40 -94.37   0.00   0.00  0.60   17   0  \n",
       "4       casualty_event     5    0.0  37.60 -90.68  37.63 -90.65  2.30  300   0  \n",
       "...                ...   ...    ...    ...    ...    ...    ...   ...  ...  ..  \n",
       "60109      no_casualty     0    0.0  30.08 -90.54  30.08 -90.53  0.60  150   0  \n",
       "60110      no_casualty     4    0.0  34.70 -90.92  34.78 -90.90  5.75   40   0  \n",
       "60111      no_casualty     5    0.0  31.54 -89.53  31.61 -89.49  5.59  100   0  \n",
       "60112      no_casualty     4    0.0  30.76 -87.24  30.77 -87.23  0.78   75   0  \n",
       "60113      no_casualty     4    0.0  34.88 -80.53  34.89 -80.52  0.90   75   0  \n",
       "\n",
       "[60114 rows x 24 columns]"
      ]
     },
     "execution_count": 7,
     "metadata": {},
     "output_type": "execute_result"
    }
   ],
   "source": [
    "tornado_df"
   ]
  },
  {
   "cell_type": "code",
   "execution_count": null,
   "id": "aed1cb15",
   "metadata": {},
   "outputs": [],
   "source": [
    "## Data Processing, PCA work "
   ]
  },
  {
   "cell_type": "code",
   "execution_count": null,
   "id": "d75d886a",
   "metadata": {},
   "outputs": [],
   "source": [
    "## From the above dataframe we assessed the best independant variables that can map to the response variable given our \n",
    "## understanding of the topic can be built into PCA components.  The four variables of interest for explanatory variables were\n",
    "## property loss from tornadoes in dollar value, the same loss but for crop value in dollars because tornadoes mainly affect\n",
    "## farming territories, the length of a tornado, and width of a tornado.  The response variable is a binary output variable:\n",
    "## If 1 or more casualties occurred or an event where no casualties occurred.  "
   ]
  },
  {
   "cell_type": "code",
   "execution_count": 9,
   "id": "1d0e213d",
   "metadata": {},
   "outputs": [],
   "source": [
    "from sklearn.preprocessing import StandardScaler\n",
    "\n",
    "features = ['loss', 'closs', 'len', 'wid']\n",
    "# Separating out the features\n",
    "x = tornado_df.loc[:, features].values\n",
    "# Separating out the target\n",
    "y = tornado_df.loc[:,['casualty_event?']].values\n",
    "# Standardizing the features\n",
    "x = StandardScaler().fit_transform(x)"
   ]
  },
  {
   "cell_type": "code",
   "execution_count": 10,
   "id": "c4a7f677",
   "metadata": {},
   "outputs": [],
   "source": [
    "from sklearn.decomposition import PCA\n",
    "pca = PCA(n_components=2)\n",
    "principalComponents = pca.fit_transform(x)\n",
    "principalDf = pd.DataFrame(data = principalComponents\n",
    "             , columns = ['principal component 1', 'principal component 2'])"
   ]
  },
  {
   "cell_type": "code",
   "execution_count": 13,
   "id": "5c219d27",
   "metadata": {},
   "outputs": [],
   "source": [
    "finalDf = pd.concat([principalDf, tornado_df[['casualty_event?']]], axis = 1)"
   ]
  },
  {
   "cell_type": "code",
   "execution_count": 14,
   "id": "dde21d9a",
   "metadata": {},
   "outputs": [
    {
     "data": {
      "image/png": "[encoded data removed]",
      "text/plain": [
       "<Figure size 576x576 with 1 Axes>"
      ]
     },
     "metadata": {
      "needs_background": "light"
     },
     "output_type": "display_data"
    }
   ],
   "source": [
    "fig = plt.figure(figsize = (8,8))\n",
    "ax = fig.add_subplot(1,1,1) \n",
    "ax.set_xlabel('Principal Component 1', fontsize = 15)\n",
    "ax.set_ylabel('Principal Component 2', fontsize = 15)\n",
    "ax.set_title('2 component PCA', fontsize = 20)\n",
    "targets = ['casualty_event', 'no_casualty']\n",
    "colors = ['r', 'g']\n",
    "for target, color in zip(targets,colors):\n",
    "    indicesToKeep = finalDf['casualty_event?'] == target\n",
    "    ax.scatter(finalDf.loc[indicesToKeep, 'principal component 1']\n",
    "               , finalDf.loc[indicesToKeep, 'principal component 2']\n",
    "               , c = color\n",
    "               , s = 50)\n",
    "ax.legend(targets)\n",
    "ax.grid()"
   ]
  },
  {
   "cell_type": "code",
   "execution_count": 15,
   "id": "861424b9",
   "metadata": {},
   "outputs": [
    {
     "data": {
      "text/plain": [
       "array([0.41177382, 0.24602887])"
      ]
     },
     "execution_count": 15,
     "metadata": {},
     "output_type": "execute_result"
    }
   ],
   "source": [
    "pca.explained_variance_ratio_"
   ]
  },
  {
   "cell_type": "code",
   "execution_count": null,
   "id": "d527bb3a",
   "metadata": {},
   "outputs": [],
   "source": [
    "## The PCA was able to take our 4 independant variables of interest and develop two components in the graph above.  The \n",
    "## component mapping was off in our graph due to the presence of outliers that had an excess effect on the response variable.\n",
    "## The issue is that for the domain of weather and specifically tornadoes, we cannot amend or remove these outliers as the \n",
    "## individual events themselves are important to the analysis.  Regardless, the first two components explain about 66% of the \n",
    "## response so 2/3 of the outcome is explain which is pretty substantial, even though its possible that a large number of \n",
    "## smaller factors could increment this amount with more components, so this analysis is a good cutoff for now."
   ]
  },
  {
   "cell_type": "code",
   "execution_count": null,
   "id": "4c777d4c",
   "metadata": {},
   "outputs": [],
   "source": [
    "## LDA Analysis"
   ]
  },
  {
   "cell_type": "code",
   "execution_count": null,
   "id": "b9ef1f8b",
   "metadata": {},
   "outputs": [],
   "source": [
    "## Data Processing, PCA work "
   ]
  },
  {
   "cell_type": "code",
   "execution_count": null,
   "id": "845417ad",
   "metadata": {},
   "outputs": [],
   "source": [
    "## Below work used the same input and output variables as above but now using an LDA algorithm.  This would help to see if \n",
    "## linear discriminants in directions could explain the connection between input and output variables.  "
   ]
  },
  {
   "cell_type": "code",
   "execution_count": 18,
   "id": "a7f33766",
   "metadata": {},
   "outputs": [],
   "source": [
    "x_LDA = tornado_df[[\"loss\", \"closs\", \"len\", \"wid\"]]\n",
    "y_LDA = tornado_df[[\"casualty_event?\"]]"
   ]
  },
  {
   "cell_type": "code",
   "execution_count": 19,
   "id": "72460a7a",
   "metadata": {},
   "outputs": [
    {
     "data": {
      "text/html": [
       "<div>\n",
       "<style scoped>\n",
       "    .dataframe tbody tr th:only-of-type {\n",
       "        vertical-align: middle;\n",
       "    }\n",
       "\n",
       "    .dataframe tbody tr th {\n",
       "        vertical-align: top;\n",
       "    }\n",
       "\n",
       "    .dataframe thead th {\n",
       "        text-align: right;\n",
       "    }\n",
       "</style>\n",
       "<table border=\"1\" class=\"dataframe\">\n",
       "  <thead>\n",
       "    <tr style=\"text-align: right;\">\n",
       "      <th></th>\n",
       "      <th>loss</th>\n",
       "      <th>closs</th>\n",
       "      <th>len</th>\n",
       "      <th>wid</th>\n",
       "    </tr>\n",
       "  </thead>\n",
       "  <tbody>\n",
       "    <tr>\n",
       "      <th>0</th>\n",
       "      <td>6</td>\n",
       "      <td>0.0</td>\n",
       "      <td>9.5</td>\n",
       "      <td>150</td>\n",
       "    </tr>\n",
       "    <tr>\n",
       "      <th>1</th>\n",
       "      <td>5</td>\n",
       "      <td>0.0</td>\n",
       "      <td>3.6</td>\n",
       "      <td>130</td>\n",
       "    </tr>\n",
       "    <tr>\n",
       "      <th>2</th>\n",
       "      <td>4</td>\n",
       "      <td>0.0</td>\n",
       "      <td>0.1</td>\n",
       "      <td>10</td>\n",
       "    </tr>\n",
       "    <tr>\n",
       "      <th>3</th>\n",
       "      <td>3</td>\n",
       "      <td>0.0</td>\n",
       "      <td>0.6</td>\n",
       "      <td>17</td>\n",
       "    </tr>\n",
       "    <tr>\n",
       "      <th>4</th>\n",
       "      <td>5</td>\n",
       "      <td>0.0</td>\n",
       "      <td>2.3</td>\n",
       "      <td>300</td>\n",
       "    </tr>\n",
       "  </tbody>\n",
       "</table>\n",
       "</div>"
      ],
      "text/plain": [
       "   loss  closs  len  wid\n",
       "0     6    0.0  9.5  150\n",
       "1     5    0.0  3.6  130\n",
       "2     4    0.0  0.1   10\n",
       "3     3    0.0  0.6   17\n",
       "4     5    0.0  2.3  300"
      ]
     },
     "execution_count": 19,
     "metadata": {},
     "output_type": "execute_result"
    }
   ],
   "source": [
    "x_LDA.head()"
   ]
  },
  {
   "cell_type": "code",
   "execution_count": 20,
   "id": "a3fb411f",
   "metadata": {},
   "outputs": [
    {
     "data": {
      "text/html": [
       "<div>\n",
       "<style scoped>\n",
       "    .dataframe tbody tr th:only-of-type {\n",
       "        vertical-align: middle;\n",
       "    }\n",
       "\n",
       "    .dataframe tbody tr th {\n",
       "        vertical-align: top;\n",
       "    }\n",
       "\n",
       "    .dataframe thead th {\n",
       "        text-align: right;\n",
       "    }\n",
       "</style>\n",
       "<table border=\"1\" class=\"dataframe\">\n",
       "  <thead>\n",
       "    <tr style=\"text-align: right;\">\n",
       "      <th></th>\n",
       "      <th>casualty_event?</th>\n",
       "    </tr>\n",
       "  </thead>\n",
       "  <tbody>\n",
       "    <tr>\n",
       "      <th>0</th>\n",
       "      <td>casualty_event</td>\n",
       "    </tr>\n",
       "    <tr>\n",
       "      <th>1</th>\n",
       "      <td>casualty_event</td>\n",
       "    </tr>\n",
       "    <tr>\n",
       "      <th>2</th>\n",
       "      <td>casualty_event</td>\n",
       "    </tr>\n",
       "    <tr>\n",
       "      <th>3</th>\n",
       "      <td>casualty_event</td>\n",
       "    </tr>\n",
       "    <tr>\n",
       "      <th>4</th>\n",
       "      <td>casualty_event</td>\n",
       "    </tr>\n",
       "  </tbody>\n",
       "</table>\n",
       "</div>"
      ],
      "text/plain": [
       "  casualty_event?\n",
       "0  casualty_event\n",
       "1  casualty_event\n",
       "2  casualty_event\n",
       "3  casualty_event\n",
       "4  casualty_event"
      ]
     },
     "execution_count": 20,
     "metadata": {},
     "output_type": "execute_result"
    }
   ],
   "source": [
    "y_LDA.head()"
   ]
  },
  {
   "cell_type": "code",
   "execution_count": 22,
   "id": "9ddf26ef",
   "metadata": {},
   "outputs": [],
   "source": [
    "LDA_df = tornado_df[[\"loss\", \"closs\", \"len\", \"wid\", \"casualty_event?\"]]"
   ]
  },
  {
   "cell_type": "code",
   "execution_count": 25,
   "id": "e9dbbfaa",
   "metadata": {},
   "outputs": [
    {
     "name": "stderr",
     "output_type": "stream",
     "text": [
      "C:\\Users\\jeffm\\AppData\\Local\\Temp/ipykernel_19756/3460996241.py:4: FutureWarning: Dropping of nuisance columns in DataFrame reductions (with 'numeric_only=None') is deprecated; in a future version this will raise TypeError.  Select only valid columns before calling the reduction.\n",
      "  class_feature_means[c] = rows.mean()\n"
     ]
    },
    {
     "data": {
      "text/html": [
       "<div>\n",
       "<style scoped>\n",
       "    .dataframe tbody tr th:only-of-type {\n",
       "        vertical-align: middle;\n",
       "    }\n",
       "\n",
       "    .dataframe tbody tr th {\n",
       "        vertical-align: top;\n",
       "    }\n",
       "\n",
       "    .dataframe thead th {\n",
       "        text-align: right;\n",
       "    }\n",
       "</style>\n",
       "<table border=\"1\" class=\"dataframe\">\n",
       "  <thead>\n",
       "    <tr style=\"text-align: right;\">\n",
       "      <th></th>\n",
       "      <th>casualty_event</th>\n",
       "      <th>no_casualty</th>\n",
       "    </tr>\n",
       "  </thead>\n",
       "  <tbody>\n",
       "    <tr>\n",
       "      <th>loss</th>\n",
       "      <td>4.741807</td>\n",
       "      <td>2.197479</td>\n",
       "    </tr>\n",
       "    <tr>\n",
       "      <th>closs</th>\n",
       "      <td>0.010537</td>\n",
       "      <td>0.000936</td>\n",
       "    </tr>\n",
       "    <tr>\n",
       "      <th>len</th>\n",
       "      <td>10.482621</td>\n",
       "      <td>2.481703</td>\n",
       "    </tr>\n",
       "    <tr>\n",
       "      <th>wid</th>\n",
       "      <td>235.624833</td>\n",
       "      <td>78.883440</td>\n",
       "    </tr>\n",
       "  </tbody>\n",
       "</table>\n",
       "</div>"
      ],
      "text/plain": [
       "       casualty_event  no_casualty\n",
       "loss         4.741807     2.197479\n",
       "closs        0.010537     0.000936\n",
       "len         10.482621     2.481703\n",
       "wid        235.624833    78.883440"
      ]
     },
     "execution_count": 25,
     "metadata": {},
     "output_type": "execute_result"
    }
   ],
   "source": [
    "tornado_target_names = ['casualty_event', 'no_casualty']\n",
    "class_feature_means = pd.DataFrame(columns=tornado_target_names)\n",
    "for c, rows in LDA_df.groupby(\"casualty_event?\"):\n",
    "    class_feature_means[c] = rows.mean()\n",
    "class_feature_means"
   ]
  },
  {
   "cell_type": "code",
   "execution_count": 26,
   "id": "7399ab22",
   "metadata": {},
   "outputs": [],
   "source": [
    "within_class_scatter_matrix = np.zeros((4,4))\n",
    "for c, rows in LDA_df.groupby(\"casualty_event?\"):\n",
    "    rows = rows.drop([\"casualty_event?\"], axis=1)\n",
    "    \n",
    "    s = np.zeros((4,4))\n",
    "for index, row in rows.iterrows():\n",
    "    x, mc = row.values.reshape(4,1), class_feature_means[c].values.reshape(4,1)\n",
    "        \n",
    "    s += (x - mc).dot((x - mc).T)\n",
    "    \n",
    "    within_class_scatter_matrix += s"
   ]
  },
  {
   "cell_type": "code",
   "execution_count": 27,
   "id": "27b4bfc4",
   "metadata": {},
   "outputs": [
    {
     "name": "stderr",
     "output_type": "stream",
     "text": [
      "C:\\Users\\jeffm\\AppData\\Local\\Temp/ipykernel_19756/2012007379.py:1: FutureWarning: Dropping of nuisance columns in DataFrame reductions (with 'numeric_only=None') is deprecated; in a future version this will raise TypeError.  Select only valid columns before calling the reduction.\n",
      "  feature_means = LDA_df.mean()\n"
     ]
    }
   ],
   "source": [
    "feature_means = LDA_df.mean()\n",
    "between_class_scatter_matrix = np.zeros((4,4))\n",
    "for c in class_feature_means:    \n",
    "    n = len(LDA_df.loc[LDA_df[\"casualty_event?\"] == c].index)\n",
    "    \n",
    "    mc, m = class_feature_means[c].values.reshape(4,1), feature_means.values.reshape(4,1)\n",
    "    \n",
    "    between_class_scatter_matrix += n * (mc - m).dot((mc - m).T)"
   ]
  },
  {
   "cell_type": "code",
   "execution_count": 28,
   "id": "a6c836fe",
   "metadata": {},
   "outputs": [],
   "source": [
    "eigen_values, eigen_vectors = np.linalg.eig(np.linalg.inv(within_class_scatter_matrix).dot(between_class_scatter_matrix))"
   ]
  },
  {
   "cell_type": "code",
   "execution_count": 29,
   "id": "bede3c1f",
   "metadata": {},
   "outputs": [
    {
     "name": "stdout",
     "output_type": "stream",
     "text": [
      "1.6246291449858056e-05\n",
      "1.6940658945086007e-21\n",
      "1.0499203499322205e-21\n",
      "1.0939422874008955e-22\n"
     ]
    }
   ],
   "source": [
    "pairs = [(np.abs(eigen_values[i]), eigen_vectors[:,i]) for i in range(len(eigen_values))]\n",
    "pairs = sorted(pairs, key=lambda x: x[0], reverse=True)\n",
    "for pair in pairs:\n",
    "    print(pair[0])"
   ]
  },
  {
   "cell_type": "code",
   "execution_count": 30,
   "id": "aa7288ae",
   "metadata": {},
   "outputs": [
    {
     "name": "stdout",
     "output_type": "stream",
     "text": [
      "Explained Variance\n",
      "Eigenvector 0: 1.0\n",
      "Eigenvector 1: 1.0427400614700913e-16\n",
      "Eigenvector 2: 6.462523174428178e-17\n",
      "Eigenvector 3: 6.73348924446664e-18\n"
     ]
    }
   ],
   "source": [
    "eigen_value_sums = sum(eigen_values)\n",
    "print('Explained Variance')\n",
    "for i, pair in enumerate(pairs):\n",
    "    print('Eigenvector {}: {}'.format(i, (pair[0]/eigen_value_sums).real))"
   ]
  },
  {
   "cell_type": "code",
   "execution_count": null,
   "id": "684daea0",
   "metadata": {},
   "outputs": [],
   "source": [
    "## Double Check Through Algorithm"
   ]
  },
  {
   "cell_type": "code",
   "execution_count": 31,
   "id": "55e9151d",
   "metadata": {},
   "outputs": [
    {
     "name": "stderr",
     "output_type": "stream",
     "text": [
      "C:\\Users\\jeffm\\anaconda3\\lib\\site-packages\\sklearn\\utils\\validation.py:63: DataConversionWarning: A column-vector y was passed when a 1d array was expected. Please change the shape of y to (n_samples, ), for example using ravel().\n",
      "  return f(*args, **kwargs)\n"
     ]
    }
   ],
   "source": [
    "from sklearn.discriminant_analysis import LinearDiscriminantAnalysis\n",
    "lda = LinearDiscriminantAnalysis()\n",
    "X_LDA_algo = lda.fit_transform(x_LDA, y_LDA)"
   ]
  },
  {
   "cell_type": "code",
   "execution_count": 32,
   "id": "70499e44",
   "metadata": {},
   "outputs": [
    {
     "data": {
      "text/plain": [
       "array([1.])"
      ]
     },
     "execution_count": 32,
     "metadata": {},
     "output_type": "execute_result"
    }
   ],
   "source": [
    "lda.explained_variance_ratio_"
   ]
  },
  {
   "cell_type": "code",
   "execution_count": 33,
   "id": "18bf8336",
   "metadata": {},
   "outputs": [
    {
     "ename": "IndexError",
     "evalue": "index 1 is out of bounds for axis 1 with size 1",
     "output_type": "error",
     "traceback": [
      "\u001b[1;31m---------------------------------------------------------------------------\u001b[0m",
      "\u001b[1;31mIndexError\u001b[0m                                Traceback (most recent call last)",
      "\u001b[1;32m~\\AppData\\Local\\Temp/ipykernel_19756/2738800812.py\u001b[0m in \u001b[0;36m<module>\u001b[1;34m\u001b[0m\n\u001b[0;32m      3\u001b[0m plt.scatter(\n\u001b[0;32m      4\u001b[0m     \u001b[0mX_LDA_algo\u001b[0m\u001b[1;33m[\u001b[0m\u001b[1;33m:\u001b[0m\u001b[1;33m,\u001b[0m\u001b[1;36m0\u001b[0m\u001b[1;33m]\u001b[0m\u001b[1;33m,\u001b[0m\u001b[1;33m\u001b[0m\u001b[1;33m\u001b[0m\u001b[0m\n\u001b[1;32m----> 5\u001b[1;33m     \u001b[0mX_LDA_algo\u001b[0m\u001b[1;33m[\u001b[0m\u001b[1;33m:\u001b[0m\u001b[1;33m,\u001b[0m\u001b[1;36m1\u001b[0m\u001b[1;33m]\u001b[0m\u001b[1;33m,\u001b[0m\u001b[1;33m\u001b[0m\u001b[1;33m\u001b[0m\u001b[0m\n\u001b[0m\u001b[0;32m      6\u001b[0m     \u001b[0mc\u001b[0m\u001b[1;33m=\u001b[0m\u001b[0my_LDA\u001b[0m\u001b[1;33m,\u001b[0m\u001b[1;33m\u001b[0m\u001b[1;33m\u001b[0m\u001b[0m\n\u001b[0;32m      7\u001b[0m     \u001b[0mcmap\u001b[0m\u001b[1;33m=\u001b[0m\u001b[1;34m'rainbow'\u001b[0m\u001b[1;33m,\u001b[0m\u001b[1;33m\u001b[0m\u001b[1;33m\u001b[0m\u001b[0m\n",
      "\u001b[1;31mIndexError\u001b[0m: index 1 is out of bounds for axis 1 with size 1"
     ]
    },
    {
     "data": {
      "image/png": "[encoded data removed]",
      "text/plain": [
       "<Figure size 432x288 with 1 Axes>"
      ]
     },
     "metadata": {
      "needs_background": "light"
     },
     "output_type": "display_data"
    }
   ],
   "source": [
    "plt.xlabel('LD1')\n",
    "plt.ylabel('LD2')\n",
    "plt.scatter(\n",
    "    X_LDA_algo[:,0],\n",
    "    X_LDA_algo[:,1],\n",
    "    c=y_LDA,\n",
    "    cmap='rainbow',\n",
    "    alpha=0.7,\n",
    "    edgecolors='b'\n",
    ")"
   ]
  },
  {
   "cell_type": "code",
   "execution_count": null,
   "id": "d6915bf6",
   "metadata": {},
   "outputs": [],
   "source": [
    "## Above we can see that the LDA was not able to discern between the two types of components and grouped everything within the \n",
    "## 1st component.  I believe this is due to the fact that our data is too non-linear and LDA builds discriminant directions\n",
    "## off linearity.  "
   ]
  }
 ],
 "metadata": {
  "kernelspec": {
   "display_name": "Python 3 (ipykernel)",
   "language": "python",
   "name": "python3"
  },
  "language_info": {
   "codemirror_mode": {
    "name": "ipython",
    "version": 3
   },
   "file_extension": ".py",
   "mimetype": "text/x-python",
   "name": "python",
   "nbconvert_exporter": "python",
   "pygments_lexer": "ipython3",
   "version": "3.9.7"
  }
 },
 "nbformat": 4,
 "nbformat_minor": 5
}
